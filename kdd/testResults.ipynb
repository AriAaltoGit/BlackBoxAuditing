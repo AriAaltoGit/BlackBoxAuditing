{
 "cells": [
  {
   "cell_type": "code",
   "execution_count": 1,
   "metadata": {},
   "outputs": [
    {
     "name": "stderr",
     "output_type": "stream",
     "text": [
      "D:\\Softwares\\envs\\tensorflow-gpu\\lib\\site-packages\\sklearn\\cross_validation.py:44: DeprecationWarning: This module was deprecated in version 0.18 in favor of the model_selection module into which all the refactored classes and functions are moved. Also note that the interface of the new CV iterators are different from that of this module. This module will be removed in 0.20.\n",
      "  \"This module will be removed in 0.20.\", DeprecationWarning)\n",
      "D:\\Softwares\\envs\\tensorflow-gpu\\lib\\site-packages\\sklearn\\grid_search.py:43: DeprecationWarning: This module was deprecated in version 0.18 in favor of the model_selection module into which all the refactored classes and functions are moved. This module will be removed in 0.20.\n",
      "  DeprecationWarning)\n"
     ]
    }
   ],
   "source": [
    "import os\n",
    "from _io import open\n",
    "import numpy as np\n",
    "import csv\n",
    "import pandas as pd\n",
    "from pandas import DataFrame\n",
    "from sklearn.svm import SVC\n",
    "from sklearn.model_selection import train_test_split\n",
    "from sklearn.metrics import confusion_matrix\n",
    "import matplotlib.pyplot as plt\n",
    "\n",
    "from sklearn.grid_search import GridSearchCV\n",
    "from sklearn.metrics import recall_score\n",
    "from sklearn.pipeline import make_pipeline\n",
    "\n",
    "from sklearn.preprocessing import MinMaxScaler"
   ]
  },
  {
   "cell_type": "code",
   "execution_count": 2,
   "metadata": {
    "collapsed": true
   },
   "outputs": [],
   "source": [
    "def recall_scorer(est,X,y):\n",
    "    return np.mean(recall_score(y, est.predict(X),\n",
    "                                average='weighted'))"
   ]
  },
  {
   "cell_type": "code",
   "execution_count": 3,
   "metadata": {},
   "outputs": [
    {
     "name": "stderr",
     "output_type": "stream",
     "text": [
      "D:\\Softwares\\envs\\tensorflow-gpu\\lib\\site-packages\\sklearn\\grid_search.py:438: ChangedBehaviorWarning: The long-standing behavior to use the estimator's score function in GridSearchCV.score has changed. The scoring parameter is now used.\n",
      "  ChangedBehaviorWarning)\n"
     ]
    }
   ],
   "source": [
    "# label_name = 'class'\n",
    "# f = open('test_data/german_categorical.csv')\n",
    "#label_name = 'income-per-year'\n",
    "label_name = 'Class'\n",
    "#f = open('test_data/adult.csv')\n",
    "f = open('DI_old_sorelle/media/RicciDataMod.csv')\n",
    "\n",
    "identifiers = ['Position', 'Race']\n",
    "\n",
    "data = [line for line in csv.reader(f)]\n",
    "headers = data.pop(0)\n",
    "\n",
    "df = DataFrame(data, columns=headers, dtype='float64')\n",
    "\n",
    "for col in identifiers:\n",
    "    del df[col]\n",
    "#print(df)\n",
    "#print(pd.get_dummies(df['duration']))\n",
    "#print(df.dtypes)\n",
    "#print(df.select_dtypes(include=['float64']))\n",
    "class_labels = {k: v for v, k in enumerate(df[label_name].unique())}\n",
    "#print(class_labels)\n",
    "#labels = [1 if l == 'good' else 0 for l in df['class']]\n",
    "labels = [class_labels[l] for l in df[label_name]]\n",
    "del df[label_name]\n",
    "#df\n",
    "for col in df.columns:\n",
    "    if df.dtypes[col] == object:\n",
    "#        print(col)\n",
    "        dum = pd.get_dummies(df[col], prefix=col+'_')\n",
    "        del df[col]\n",
    "        df = pd.concat([df, dum], axis=1)\n",
    "#    else:\n",
    "#        print(col, len(df[col].unique()))\n",
    "df\n",
    "#print(labels)\n",
    "#df.values\n",
    "train_data, test_data, train_labels, test_labels = train_test_split(df, labels, test_size=0.33, random_state=100)\n",
    "# clf = SVC(class_weight='balanced')\n",
    "clf = GridSearchCV(make_pipeline(MinMaxScaler(), SVC(class_weight='balanced')),\n",
    "                       param_grid={\n",
    "                           'svc__C' : np.logspace(-3,3,num=13)\n",
    "                       },\n",
    "                       scoring=recall_scorer)\n",
    "clf.fit(train_data, train_labels)\n",
    "pred = clf.predict(test_data)\n",
    "#print(confusion_matrix(test_labels, pred))\n",
    "c = confusion_matrix(test_labels, pred)\n",
    "ber = 0\n",
    "for r in range(c.shape[0]):\n",
    "    num = 0\n",
    "    den = 0\n",
    "    for col in range(c.shape[1]):\n",
    "        if r == col:\n",
    "            den += c[r][col]\n",
    "        else:\n",
    "            num += c[r][col]\n",
    "            den += c[r][col]\n",
    "    #print(num, den)\n",
    "    ber += (num/den)\n",
    "original_ber = 1 - (ber / c.shape[0])\n",
    "original_accuracy = clf.score(test_data, test_labels)\n",
    "\n",
    "rec = recall_scorer(clf, test_data, test_labels)\n",
    "#print(1 - rec)\n",
    "#original_ber = 1 - rec"
   ]
  },
  {
   "cell_type": "code",
   "execution_count": 4,
   "metadata": {
    "collapsed": true
   },
   "outputs": [],
   "source": [
    "#%%timeit\n",
    "X = []\n",
    "Y = []\n",
    "B = []\n",
    "# directory = 'results/german/age'\n",
    "#directory = 'results/adult/race'\n",
    "directory = 'results/sorelle'\n",
    "for fileName in os.listdir(directory):\n",
    "    #f = open('results/german/age/german_repaired_1.0.csv')\n",
    "    #f = open('test_data/german_categorical.csv')\n",
    "    f = open(os.path.join(directory, fileName))\n",
    "#    print(fileName)\n",
    "    data = [line for line in csv.reader(f)]\n",
    "    headers = data.pop(0)\n",
    "\n",
    "    df = DataFrame(data, columns=headers, dtype='float64')\n",
    "    #print(pd.get_dummies(df['duration']))\n",
    "    #print(df.dtypes)\n",
    "    #print(df.select_dtypes(include=['float64']))\n",
    "    labels = [class_labels[l] for l in df[label_name]]\n",
    "    del df[label_name]\n",
    "    for col in df.columns:\n",
    "        if df.dtypes[col] == object:\n",
    "    #        print(col)\n",
    "            dum = pd.get_dummies(df[col], prefix=col+'_')\n",
    "            del df[col]\n",
    "            df = pd.concat([df, dum], axis=1)\n",
    "    #    else:\n",
    "    #        print(col, len(df[col].unique()))\n",
    "    #df\n",
    "    #print(labels)\n",
    "    #df.values\n",
    "    train_data, test_data, train_labels, test_labels = train_test_split(df, labels, test_size=0.33, random_state=100)\n",
    "    clf = GridSearchCV(make_pipeline(MinMaxScaler(), SVC(class_weight='balanced')),\n",
    "                       param_grid={\n",
    "                           'svc__C' : np.logspace(-3,3,num=13)\n",
    "                       },\n",
    "                       scoring=recall_scorer)\n",
    "    clf.fit(train_data, train_labels)\n",
    "    pred = clf.predict(test_data)\n",
    "    c = confusion_matrix(test_labels, pred)\n",
    "    ber = 0\n",
    "    for r in range(c.shape[0]):\n",
    "        num = 0\n",
    "        den = 0\n",
    "        for col in range(c.shape[1]):\n",
    "            if r == col:\n",
    "                den += c[r][col]\n",
    "            else:\n",
    "                num += c[r][col]\n",
    "                den += c[r][col]\n",
    "        #print(num, den)\n",
    "        ber += (num/den)\n",
    "    ber = ber / c.shape[0]\n",
    "    #print(ber, c)\n",
    "    #ber = recall_scorer(clf, test_data, test_labels)\n",
    "    B.append(1 - ber)\n",
    "    X.append(fileName.split('_')[-1].split('.csv')[0])\n",
    "    #Y.append(clf.score(test_data, test_labels))\n",
    "    Y.append(ber)\n",
    "#    results[fileName.split('_')[-1].split('.csv')[0]] = clf.score(test_data, test_labels)\n",
    "#print(X, Y, B)\n",
    "    "
   ]
  },
  {
   "cell_type": "code",
   "execution_count": 5,
   "metadata": {},
   "outputs": [
    {
     "data": {
      "image/png": "[encoded data removed]",
      "text/plain": [
       "<matplotlib.figure.Figure at 0x1b0b079ab00>"
      ]
     },
     "metadata": {},
     "output_type": "display_data"
    }
   ],
   "source": [
    "plt.plot(X, Y, 'mo--', label='ber')\n",
    "plt.plot(X, B, 'c^--', label='Utility (1 - BER)')\n",
    "#plt.axhline(y=original_accuracy, color='b', linestyle='-', label='base accuracy')\n",
    "plt.axhline(y=original_ber, color='b', linestyle='--', label='base Utility')\n",
    "plt.legend()\n",
    "plt.title('Ricci Dataset')\n",
    "plt.ylabel('Utility (1 - BER)')\n",
    "plt.xlabel('Repair')\n",
    "plt.show()"
   ]
  },
  {
   "cell_type": "code",
   "execution_count": 6,
   "metadata": {
    "collapsed": true
   },
   "outputs": [],
   "source": [
    "protected = ''"
   ]
  },
  {
   "cell_type": "code",
   "execution_count": null,
   "metadata": {
    "collapsed": true
   },
   "outputs": [],
   "source": []
  }
 ],
 "metadata": {
  "kernelspec": {
   "display_name": "Python 3",
   "language": "python",
   "name": "python3"
  },
  "language_info": {
   "codemirror_mode": {
    "name": "ipython",
    "version": 3
   },
   "file_extension": ".py",
   "mimetype": "text/x-python",
   "name": "python",
   "nbconvert_exporter": "python",
   "pygments_lexer": "ipython3",
   "version": "3.5.2"
  }
 },
 "nbformat": 4,
 "nbformat_minor": 2
}
